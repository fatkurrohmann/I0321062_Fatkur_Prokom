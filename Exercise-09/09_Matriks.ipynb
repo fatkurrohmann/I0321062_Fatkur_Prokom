{
 "cells": [
  {
   "cell_type": "markdown",
   "metadata": {},
   "source": [
    "# Exercise 09  \n",
    "### OPERASI MATRIKS  \n",
    "Silahkan lengkapi kode yang rumpang sesuai perintah yang diberikan.\n"
   ]
  },
  {
   "cell_type": "markdown",
   "metadata": {},
   "source": [
    "![](./image/1.png)"
   ]
  },
  {
   "cell_type": "code",
   "execution_count": 2,
   "metadata": {},
   "outputs": [],
   "source": [
    "A = [[None,None],\n",
    "     [None,None]]\n",
    "\n",
    "B = [[None, None],\n",
    "     [None, None]]\n"
   ]
  },
  {
   "cell_type": "markdown",
   "metadata": {},
   "source": [
    "Buatlah matriks menggunakan metode perulangan for dengan ketentuan sebagai berikut:\n",
    "* Matriks A berisi angka sebesar 4 setelah nim kalian. (ex: nim = 12, nilai matriks [16, 16],[16,16])\n",
    "* Matriks B berisi angka sebesar 4 sebelum nim kalian. (ex: nim = 12, nilai matriks [8, 8],[8,8])\n"
   ]
  },
  {
   "cell_type": "code",
   "execution_count": 1,
   "metadata": {},
   "outputs": [
    {
     "ename": "NameError",
     "evalue": "name 'A' is not defined",
     "output_type": "error",
     "traceback": [
      "\u001b[1;31m---------------------------------------------------------------------------\u001b[0m",
      "\u001b[1;31mNameError\u001b[0m                                 Traceback (most recent call last)",
      "\u001b[1;32mc:\\Users\\fatku\\OneDrive\\Documents\\Praktikum Prokom\\I0321062-M. Fatkur Rohman-Prokom\\Exercise-09\\09_Matriks.ipynb Cell 5'\u001b[0m in \u001b[0;36m<cell line: 5>\u001b[1;34m()\u001b[0m\n\u001b[0;32m      <a href='vscode-notebook-cell:/c%3A/Users/fatku/OneDrive/Documents/Praktikum%20Prokom/I0321062-M.%20Fatkur%20Rohman-Prokom/Exercise-09/09_Matriks.ipynb#ch0000004?line=2'>3</a>\u001b[0m         \u001b[39mfor\u001b[39;00m k \u001b[39min\u001b[39;00m \u001b[39mNone\u001b[39;00m:\n\u001b[0;32m      <a href='vscode-notebook-cell:/c%3A/Users/fatku/OneDrive/Documents/Praktikum%20Prokom/I0321062-M.%20Fatkur%20Rohman-Prokom/Exercise-09/09_Matriks.ipynb#ch0000004?line=3'>4</a>\u001b[0m             matriks[\u001b[39mNone\u001b[39;00m][\u001b[39mNone\u001b[39;00m] \u001b[39m=\u001b[39m \u001b[39mNone\u001b[39;00m \n\u001b[1;32m----> <a href='vscode-notebook-cell:/c%3A/Users/fatku/OneDrive/Documents/Praktikum%20Prokom/I0321062-M.%20Fatkur%20Rohman-Prokom/Exercise-09/09_Matriks.ipynb#ch0000004?line=4'>5</a>\u001b[0m create(A, \u001b[39mNone\u001b[39;00m)\n\u001b[0;32m      <a href='vscode-notebook-cell:/c%3A/Users/fatku/OneDrive/Documents/Praktikum%20Prokom/I0321062-M.%20Fatkur%20Rohman-Prokom/Exercise-09/09_Matriks.ipynb#ch0000004?line=5'>6</a>\u001b[0m create(B, \u001b[39mNone\u001b[39;00m)\n\u001b[0;32m      <a href='vscode-notebook-cell:/c%3A/Users/fatku/OneDrive/Documents/Praktikum%20Prokom/I0321062-M.%20Fatkur%20Rohman-Prokom/Exercise-09/09_Matriks.ipynb#ch0000004?line=7'>8</a>\u001b[0m \u001b[39mprint\u001b[39m(A)\n",
      "\u001b[1;31mNameError\u001b[0m: name 'A' is not defined"
     ]
    }
   ],
   "source": [
    "def create(matriks, nim):\n",
    "    for i in None:\n",
    "        for k in None:\n",
    "            matriks[None][None] = None \n",
    "create(A, None)\n",
    "create(B, None)\n",
    "\n",
    "print(A)\n",
    "print(B)"
   ]
  },
  {
   "cell_type": "markdown",
   "metadata": {},
   "source": [
    "## KERJAKAN SOAL BERIKUT\n",
    "1. Buatlah program penjumlahan matriks A dan B.\n",
    "2. Buatlah program pengurangan matriks A dan B.\n",
    "3. Buatlah program perkalian matriks A dan B."
   ]
  },
  {
   "cell_type": "code",
   "execution_count": 2,
   "metadata": {},
   "outputs": [
    {
     "name": "stdout",
     "output_type": "stream",
     "text": [
      "124 124 \n",
      "124 124 \n"
     ]
    }
   ],
   "source": [
    "#SOAL-1\n",
    "#YOUR CODE HERE\n",
    "A = [[66, 66],\n",
    "     [66,66]]\n",
    "\n",
    "B = [[58, 58],\n",
    "     [58, 58]]\n",
    "\n",
    "#menjumlahkan matriks A dan B\n",
    "for x in range(len(A)):\n",
    "    for y in range(len(A[0])):\n",
    "        print (A[x][y] + B[x][y], end=' '),\n",
    "    print()"
   ]
  },
  {
   "cell_type": "code",
   "execution_count": 3,
   "metadata": {},
   "outputs": [
    {
     "name": "stdout",
     "output_type": "stream",
     "text": [
      "8 8 \n",
      "8 8 \n"
     ]
    }
   ],
   "source": [
    "#SOAL-2\n",
    "#YOUR CODE HERE\n",
    "A = [[66, 66],\n",
    "     [66,66]]\n",
    "\n",
    "B = [[58, 58],\n",
    "     [58, 58]]\n",
    "\n",
    "#pengurangan matriks A dan B\n",
    "for x in range(len(A)):\n",
    "    for y in range(len(A[0])):\n",
    "        print (A[x][y] - B[x][y], end=' '),\n",
    "    print()"
   ]
  },
  {
   "cell_type": "code",
   "execution_count": 17,
   "metadata": {},
   "outputs": [
    {
     "name": "stdout",
     "output_type": "stream",
     "text": [
      "3828 3828 \n",
      "3828 3828 \n"
     ]
    }
   ],
   "source": [
    "#SOAL-3\n",
    "#YOUR CODE HERE\n",
    "A = [[66, 66],\n",
    "     [66,66]]\n",
    "\n",
    "B = [[58, 58],\n",
    "     [58, 58]]\n",
    "\n",
    "#perkalian matriks A dan B\n",
    "for x in range(len(A)):\n",
    "    for y in range(len(A[0])):\n",
    "        print (A[x][y] * B[x][y], end=' '),\n",
    "    print()"
   ]
  },
  {
   "cell_type": "markdown",
   "metadata": {},
   "source": [
    "### Cara Pengumpulan\n",
    "\n",
    "1. Buka *New Terminal*\n",
    "2. Pastikan *path* Terminal adalah folder repositori kalian (NIM-Nama-Prokom).\n",
    "3. Tambahkan file yang akan ditrack dengan `git add <nama file>`. Nama file bisa diubah . (titik)  `git add .`yang artinya semua file dalam folder akan ditrack.\n",
    "4. Lakukan commit perubahan dengan `git commit -m <deskripsi>`.\n",
    "5. Lakukan push dengan `git push -u origin <nama branch>`. Nama branch dapat diketahui dengan `git branch`.\n",
    "6. Pastikan Exercise-02 telah terupload dan dapat diakses di repositori dengan mengaksesnya di browser."
   ]
  }
 ],
 "metadata": {
  "interpreter": {
   "hash": "1411e732565ddaf29c6bdbbece9449755521c928cefa2692bd066f5e751725c6"
  },
  "kernelspec": {
   "display_name": "Python 3.9.12 64-bit (windows store)",
   "language": "python",
   "name": "python3"
  },
  "language_info": {
   "codemirror_mode": {
    "name": "ipython",
    "version": 3
   },
   "file_extension": ".py",
   "mimetype": "text/x-python",
   "name": "python",
   "nbconvert_exporter": "python",
   "pygments_lexer": "ipython3",
   "version": "3.9.12"
  },
  "orig_nbformat": 4
 },
 "nbformat": 4,
 "nbformat_minor": 2
}
