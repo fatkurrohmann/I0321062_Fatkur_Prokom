{
 "cells": [
  {
   "cell_type": "markdown",
   "metadata": {},
   "source": [
    "# Exercise 09  \n",
    "### OPERASI MATRIKS  \n",
    "Silahkan lengkapi kode yang rumpang sesuai perintah yang diberikan.\n"
   ]
  },
  {
   "cell_type": "markdown",
   "metadata": {},
   "source": [
    "![](./image/1.png)"
   ]
  },
  {
   "cell_type": "code",
   "execution_count": 2,
   "metadata": {},
   "outputs": [],
   "source": [
    "A = [[None,None],\n",
    "     [None,None]]\n",
    "\n",
    "B = [[None, None],\n",
    "     [None, None]]\n"
   ]
  },
  {
   "cell_type": "markdown",
   "metadata": {},
   "source": [
    "Buatlah matriks menggunakan metode perulangan for dengan ketentuan sebagai berikut:\n",
    "* Matriks A berisi angka sebesar 4 setelah nim kalian. (ex: nim = 12, nilai matriks [16, 16],[16,16])\n",
    "* Matriks B berisi angka sebesar 4 sebelum nim kalian. (ex: nim = 12, nilai matriks [8, 8],[8,8])\n"
   ]
  },
  {
   "cell_type": "code",
   "execution_count": null,
   "metadata": {},
   "outputs": [],
   "source": [
    "def create(matriks, nim):\n",
    "    for i in None:\n",
    "        for k in None:\n",
    "            matriks[None][None] = None \n",
    "create(A, None)\n",
    "create(B, None)\n",
    "\n",
    "print(A)\n",
    "print(B)"
   ]
  },
  {
   "cell_type": "markdown",
   "metadata": {},
   "source": [
    "## KERJAKAN SOAL BERIKUT\n",
    "1. Buatlah program penjumlahan matriks A dan B.\n",
    "2. Buatlah program pengurangan matriks A dan B.\n",
    "3. Buatlah program perkalian matriks A dan B."
   ]
  },
  {
   "cell_type": "code",
   "execution_count": 15,
   "metadata": {},
   "outputs": [
    {
     "name": "stdout",
     "output_type": "stream",
     "text": [
      "124 124 \n",
      "124 124 \n"
     ]
    }
   ],
   "source": [
    "#SOAL-1\n",
    "#YOUR CODE HERE\n",
    "A = [[66, 66],\n",
    "     [66,66]]\n",
    "\n",
    "B = [[58, 58],\n",
    "     [58, 58]]\n",
    "\n",
    "#menjumlahkan matriks A dan B\n",
    "for x in range(len(A)):\n",
    "    for y in range(len(A[0])):\n",
    "        print (A[x][y] + B[x][y], end=' '),\n",
    "    print()"
   ]
  },
  {
   "cell_type": "code",
   "execution_count": 16,
   "metadata": {},
   "outputs": [
    {
     "name": "stdout",
     "output_type": "stream",
     "text": [
      "8 8 \n",
      "8 8 \n"
     ]
    }
   ],
   "source": [
    "#SOAL-2\n",
    "#YOUR CODE HERE\n",
    "A = [[66, 66],\n",
    "     [66,66]]\n",
    "\n",
    "B = [[58, 58],\n",
    "     [58, 58]]\n",
    "\n",
    "#pengurangan matriks A dan B\n",
    "for x in range(len(A)):\n",
    "    for y in range(len(A[0])):\n",
    "        print (A[x][y] - B[x][y], end=' '),\n",
    "    print()"
   ]
  },
  {
   "cell_type": "code",
   "execution_count": 17,
   "metadata": {},
   "outputs": [
    {
     "name": "stdout",
     "output_type": "stream",
     "text": [
      "3828 3828 \n",
      "3828 3828 \n"
     ]
    }
   ],
   "source": [
    "#SOAL-3\n",
    "#YOUR CODE HERE\n",
    "A = [[66, 66],\n",
    "     [66,66]]\n",
    "\n",
    "B = [[58, 58],\n",
    "     [58, 58]]\n",
    "\n",
    "#perkalian matriks A dan B\n",
    "for x in range(len(A)):\n",
    "    for y in range(len(A[0])):\n",
    "        print (A[x][y] * B[x][y], end=' '),\n",
    "    print()"
   ]
  },
  {
   "cell_type": "markdown",
   "metadata": {},
   "source": [
    "### Cara Pengumpulan\n",
    "\n",
    "1. Buka *New Terminal*\n",
    "2. Pastikan *path* Terminal adalah folder repositori kalian (NIM-Nama-Prokom).\n",
    "3. Tambahkan file yang akan ditrack dengan `git add <nama file>`. Nama file bisa diubah . (titik)  `git add .`yang artinya semua file dalam folder akan ditrack.\n",
    "4. Lakukan commit perubahan dengan `git commit -m <deskripsi>`.\n",
    "5. Lakukan push dengan `git push -u origin <nama branch>`. Nama branch dapat diketahui dengan `git branch`.\n",
    "6. Pastikan Exercise-02 telah terupload dan dapat diakses di repositori dengan mengaksesnya di browser."
   ]
  }
 ],
 "metadata": {
  "interpreter": {
   "hash": "ac59ebe37160ed0dfa835113d9b8498d9f09ceb179beaac4002f036b9467c963"
  },
  "kernelspec": {
   "display_name": "Python 3.9.8 64-bit",
   "language": "python",
   "name": "python3"
  },
  "language_info": {
   "codemirror_mode": {
    "name": "ipython",
    "version": 3
   },
   "file_extension": ".py",
   "mimetype": "text/x-python",
   "name": "python",
   "nbconvert_exporter": "python",
   "pygments_lexer": "ipython3",
   "version": "3.9.12"
  },
  "orig_nbformat": 4
 },
 "nbformat": 4,
 "nbformat_minor": 2
}
