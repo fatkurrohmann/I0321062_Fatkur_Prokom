{
 "cells": [
  {
   "cell_type": "markdown",
   "metadata": {},
   "source": [
    "***\n",
    "<h1 align=\"center\">Exercise 06</h1>\n",
    " \n",
    "***\n",
    "## While Loop\n",
    "## Exercise 6.1\n",
    "isilah bagian rumpang berikut. xx diganti tanggal lahir dan yy diganti menjadi bulan lahir. tandanya menyesuaikan yang lebih besar."
   ]
  },
  {
   "cell_type": "code",
   "execution_count": 1,
   "metadata": {},
   "outputs": [
    {
     "name": "stdout",
     "output_type": "stream",
     "text": [
      "Hidup adalah pelajaran tentang kerendahan hati\n",
      "Hidup adalah pelajaran tentang kerendahan hati\n",
      "Hidup adalah pelajaran tentang kerendahan hati\n",
      "Hidup adalah pelajaran tentang kerendahan hati\n",
      "Hidup adalah pelajaran tentang kerendahan hati\n"
     ]
    }
   ],
   "source": [
    "#menentukan banyak pengulangan\n",
    "n = 6\n",
    "\n",
    "#melakukan pengulangan\n",
    "i = 2\n",
    "\n",
    "while i <= n :\n",
    "    print (\"Hidup adalah pelajaran tentang kerendahan hati\")\n",
    "    #diisi motto kalian\n",
    "    i = i + 1 # sesuaikan dengan atas agar fungsi perulangan dapat berhenti\n"
   ]
  },
  {
   "cell_type": "markdown",
   "metadata": {},
   "source": [
    "## Exercise 6.2\n",
    "\n",
    "Buatlah code seperti yang dicontohkan pada modul agar user dapat menginputkan sendiri jumlah n yang diinginkan"
   ]
  },
  {
   "cell_type": "code",
   "execution_count": 10,
   "metadata": {},
   "outputs": [
    {
     "name": "stdout",
     "output_type": "stream",
     "text": [
      "6\n",
      "7\n",
      "8\n",
      "9\n",
      "10\n",
      "11\n",
      "12\n",
      "13\n",
      "14\n",
      "15\n",
      "16\n",
      "17\n"
     ]
    }
   ],
   "source": [
    "#Kerjakan disini\n",
    "n = int(input(\"input nilai n : \"))\n",
    "i = 6\n",
    "while i <= n :\n",
    "    print (i)\n",
    "    i = i + 1"
   ]
  },
  {
   "cell_type": "markdown",
   "metadata": {},
   "source": [
    "## Excercise 6.3\n",
    "\n",
    "isilah xx, yy, dan tanda rumpang seperti pada exercise 6.1\n"
   ]
  },
  {
   "cell_type": "code",
   "execution_count": 10,
   "metadata": {},
   "outputs": [
    {
     "name": "stdout",
     "output_type": "stream",
     "text": [
      "Baris ke-6 : Spiderman No Way Home\n",
      "Baris ke-5 : Spiderman No Way Home\n",
      "Baris ke-4 : Spiderman No Way Home\n",
      "Baris ke-3 : Spiderman No Way Home\n",
      "Baris ke-2 : Spiderman No Way Home\n"
     ]
    }
   ],
   "source": [
    "#melakukan pengulangan\n",
    "i = 6\n",
    "\n",
    "while i >= 2 :\n",
    "    print (\"Baris ke-%d : Spiderman No Way Home\"%i)\n",
    "    #isi titik-titik dengan judul film favorit kalian\n",
    "    i = i - 1 "
   ]
  },
  {
   "cell_type": "markdown",
   "metadata": {},
   "source": [
    "## FOR LOOP\n",
    "\n",
    "## Exercise 6.4\n",
    "\n",
    "munculkan 3 dari 7 elemen yang berada di dalam list1 dan list2\n"
   ]
  },
  {
   "cell_type": "code",
   "execution_count": 13,
   "metadata": {},
   "outputs": [
    {
     "name": "stdout",
     "output_type": "stream",
     "text": [
      "1 Bakso Malang\n",
      "2 Mie Ayam Surabaya\n",
      "3 Ayam Geprek Probolinggo\n"
     ]
    }
   ],
   "source": [
    "list1 = [\"Bakso\",\"Mie Ayam\", \"Ayam Geprek\", \"Nasi Goreng\", \"Ayam Bakar\", \"Ikan Panggang\",\"Burger\"] #masukkan 7 list makanan favorit kalian\n",
    "list2 = [\"Malang\", \"Surabaya\", \"Probolinggo\", \"Lamongan\", \"Jogja\", \"Jakarta\", \"Bandung\"] #masukkan 7 list kota favorit kalian\n",
    "\n",
    "for i in range(0,3) :\n",
    "    print(i+1, list1[i] , list2[i])"
   ]
  },
  {
   "cell_type": "markdown",
   "metadata": {},
   "source": [
    "## Perulangan Bersarang\n",
    "\n",
    "## Exercise 6.5"
   ]
  },
  {
   "cell_type": "code",
   "execution_count": 27,
   "metadata": {},
   "outputs": [
    {
     "name": "stdout",
     "output_type": "stream",
     "text": [
      "6 12 18 24 30 36 \n",
      "5 10 15 20 25 \n",
      "4 8 12 16 \n",
      "3 6 9 \n",
      "2 4 \n"
     ]
    }
   ],
   "source": [
    "i = 6\n",
    "while i >= 2 :\n",
    "    j = 1\n",
    "    while j<=i:\n",
    "        print(\"%d \" % (i*j), end = '')\n",
    "        j = j + 1\n",
    "    print()\n",
    "    i-=1"
   ]
  },
  {
   "cell_type": "markdown",
   "metadata": {},
   "source": [
    "## Pernyataan Loncat\n",
    "\n",
    "## Exercise 6.\n",
    "\n",
    "Buatlah fungsi berikut agar muncul angka hingga berhenti sesuai dengan nilai qq\n",
    "qq = angka favorit kalian\n",
    "pp>qq"
   ]
  },
  {
   "cell_type": "code",
   "execution_count": 30,
   "metadata": {},
   "outputs": [
    {
     "name": "stdout",
     "output_type": "stream",
     "text": [
      "0123456789101112"
     ]
    }
   ],
   "source": [
    "for i in range(21):\n",
    "    print(i,end='')\n",
    "    if i == 12:\n",
    "     break"
   ]
  },
  {
   "cell_type": "markdown",
   "metadata": {},
   "source": [
    "***\n",
    "<h1 align=\"center\">WELL DONE</h1>\n",
    " \n",
    "***"
   ]
  }
 ],
 "metadata": {
  "interpreter": {
   "hash": "cd08f94adcf3cbae37fe85286256f4c2a10455ca9094fd053e9f3d3f09647223"
  },
  "kernelspec": {
   "display_name": "Python 3.9.7 64-bit",
   "language": "python",
   "name": "python3"
  },
  "language_info": {
   "codemirror_mode": {
    "name": "ipython",
    "version": 3
   },
   "file_extension": ".py",
   "mimetype": "text/x-python",
   "name": "python",
   "nbconvert_exporter": "python",
   "pygments_lexer": "ipython3",
   "version": "3.9.7"
  },
  "orig_nbformat": 4
 },
 "nbformat": 4,
 "nbformat_minor": 2
}
