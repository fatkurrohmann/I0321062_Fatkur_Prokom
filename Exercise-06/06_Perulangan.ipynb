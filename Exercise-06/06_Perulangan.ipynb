{
 "cells": [
  {
   "cell_type": "markdown",
   "metadata": {},
   "source": [
    "***\n",
    "<h1 align=\"center\">Exercise 06</h1>\n",
    " \n",
    "***\n",
    "## While Loop\n",
    "## Exercise 6.1\n",
    "isilah bagian rumpang berikut. xx diganti tanggal lahir dan yy diganti menjadi bulan lahir. tandanya menyesuaikan yang lebih besar."
   ]
  },
  {
   "cell_type": "code",
   "execution_count": 1,
   "metadata": {},
   "outputs": [
    {
     "name": "stdout",
     "output_type": "stream",
     "text": [
      "Hidup adalah pelajaran tentang kerendahan hati\n",
      "Hidup adalah pelajaran tentang kerendahan hati\n",
      "Hidup adalah pelajaran tentang kerendahan hati\n",
      "Hidup adalah pelajaran tentang kerendahan hati\n",
      "Hidup adalah pelajaran tentang kerendahan hati\n"
     ]
    }
   ],
   "source": [
    "#menentukan banyak pengulangan\n",
    "n = 6\n",
    "\n",
    "#melakukan pengulangan\n",
    "i = 2\n",
    "\n",
    "while i <= n :\n",
    "    print (\"Hidup adalah pelajaran tentang kerendahan hati\")\n",
    "    #diisi motto kalian\n",
    "    i = i + 1 # sesuaikan dengan atas agar fungsi perulangan dapat berhenti\n"
   ]
  },
  {
   "cell_type": "markdown",
   "metadata": {},
   "source": [
    "## Exercise 6.2\n",
    "\n",
    "Buatlah code seperti yang dicontohkan pada modul agar user dapat menginputkan sendiri jumlah n yang diinginkan"
   ]
  },
  {
   "cell_type": "code",
   "execution_count": 10,
   "metadata": {},
   "outputs": [
    {
     "name": "stdout",
     "output_type": "stream",
     "text": [
      "6\n",
      "7\n",
      "8\n",
      "9\n",
      "10\n",
      "11\n",
      "12\n",
      "13\n",
      "14\n",
      "15\n",
      "16\n",
      "17\n"
     ]
    }
   ],
   "source": [
    "#Kerjakan disini\n",
    "n = int(input(\"input nilai n : \"))\n",
    "i = 6\n",
    "while i <= n :\n",
    "    print (i)\n",
    "    i = i + 1"
   ]
  },
  {
   "cell_type": "markdown",
   "metadata": {},
   "source": [
    "## Excercise 6.3\n",
    "\n",
    "isilah xx, yy, dan tanda rumpang seperti pada exercise 6.1\n"
   ]
  },
  {
   "cell_type": "code",
   "execution_count": 10,
   "metadata": {},
   "outputs": [
    {
     "name": "stdout",
     "output_type": "stream",
     "text": [
      "Baris ke-6 : Spiderman No Way Home\n",
      "Baris ke-5 : Spiderman No Way Home\n",
      "Baris ke-4 : Spiderman No Way Home\n",
      "Baris ke-3 : Spiderman No Way Home\n",
      "Baris ke-2 : Spiderman No Way Home\n"
     ]
    }
   ],
   "source": [
    "#melakukan pengulangan\n",
    "i = 6\n",
    "\n",
    "while i >= 2 :\n",
    "    print (\"Baris ke-%d : Spiderman No Way Home\"%i)\n",
    "    #isi titik-titik dengan judul film favorit kalian\n",
    "    i = i - 1 "
   ]
  },
  {
   "cell_type": "markdown",
   "metadata": {},
   "source": [
    "## FOR LOOP\n",
    "\n",
    "## Exercise 6.4\n",
    "\n",
    "munculkan 3 dari 7 elemen yang berada di dalam list1 dan list2\n"
   ]
  },
  {
   "cell_type": "code",
   "execution_count": 13,
   "metadata": {},
   "outputs": [
    {
     "name": "stdout",
     "output_type": "stream",
     "text": [
      "1 Bakso Malang\n",
      "2 Mie Ayam Surabaya\n",
      "3 Ayam Geprek Probolinggo\n"
     ]
    }
   ],
   "source": [
    "list1 = [\"Bakso\",\"Mie Ayam\", \"Ayam Geprek\", \"Nasi Goreng\", \"Ayam Bakar\", \"Ikan Panggang\",\"Burger\"] #masukkan 7 list makanan favorit kalian\n",
    "list2 = [\"Malang\", \"Surabaya\", \"Probolinggo\", \"Lamongan\", \"Jogja\", \"Jakarta\", \"Bandung\"] #masukkan 7 list kota favorit kalian\n",
    "\n",
    "for i in range(0,3) :\n",
    "    print(i+1, list1[i] , list2[i])"
   ]
  },
  {
   "cell_type": "markdown",
   "metadata": {},
   "source": [
    "## Perulangan Bersarang\n",
    "\n",
    "## Exercise 6.5"
   ]
  },
  {
   "cell_type": "code",
   "execution_count": null,
   "metadata": {},
   "outputs": [],
   "source": [
    "i = 6\n",
    "while i >= 2 :\n",
    "    j = 6\n",
    "    while j>=i:\n",
    "        print(\"%d \" % (i*j), end = '')\n",
    "        j = j + 1\n",
    "    print()\n",
    "    i-=1"
   ]
  },
  {
   "cell_type": "markdown",
   "metadata": {},
   "source": [
    "## Pernyataan Loncat\n",
    "\n",
    "## Exercise 6.\n",
    "\n",
    "Buatlah fungsi berikut agar muncul angka hingga berhenti sesuai dengan nilai qq\n",
    "qq = angka favorit kalian\n",
    "pp>qq"
   ]
  },
  {
   "cell_type": "code",
   "execution_count": 2,
   "metadata": {},
   "outputs": [
    {
     "name": "stdout",
     "output_type": "stream",
     "text": [
      "012"
     ]
    },
    {
     "ename": "NameError",
     "evalue": "name 'qq' is not defined",
     "output_type": "error",
     "traceback": [
      "\u001b[1;31m---------------------------------------------------------------------------\u001b[0m",
      "\u001b[1;31mNameError\u001b[0m                                 Traceback (most recent call last)",
      "\u001b[1;32mc:\\Users\\fatku\\OneDrive\\Documents\\Praktikum Prokom\\I0321062-M. Fatkur Rohman-Prokom\\Exercise-06\\06_Perulangan.ipynb Cell 12'\u001b[0m in \u001b[0;36m<cell line: 1>\u001b[1;34m()\u001b[0m\n\u001b[0;32m      <a href='vscode-notebook-cell:/c%3A/Users/fatku/OneDrive/Documents/Praktikum%20Prokom/I0321062-M.%20Fatkur%20Rohman-Prokom/Exercise-06/06_Perulangan.ipynb#ch0000011?line=0'>1</a>\u001b[0m \u001b[39mfor\u001b[39;00m i \u001b[39min\u001b[39;00m \u001b[39mrange\u001b[39m(\u001b[39m21\u001b[39m):\n\u001b[0;32m      <a href='vscode-notebook-cell:/c%3A/Users/fatku/OneDrive/Documents/Praktikum%20Prokom/I0321062-M.%20Fatkur%20Rohman-Prokom/Exercise-06/06_Perulangan.ipynb#ch0000011?line=1'>2</a>\u001b[0m     \u001b[39mprint\u001b[39m(i,end\u001b[39m=\u001b[39m\u001b[39m'\u001b[39m\u001b[39m12\u001b[39m\u001b[39m'\u001b[39m)\n\u001b[1;32m----> <a href='vscode-notebook-cell:/c%3A/Users/fatku/OneDrive/Documents/Praktikum%20Prokom/I0321062-M.%20Fatkur%20Rohman-Prokom/Exercise-06/06_Perulangan.ipynb#ch0000011?line=2'>3</a>\u001b[0m     \u001b[39mif\u001b[39;00m i \u001b[39m==\u001b[39m qq:\n\u001b[0;32m      <a href='vscode-notebook-cell:/c%3A/Users/fatku/OneDrive/Documents/Praktikum%20Prokom/I0321062-M.%20Fatkur%20Rohman-Prokom/Exercise-06/06_Perulangan.ipynb#ch0000011?line=3'>4</a>\u001b[0m         ___\n",
      "\u001b[1;31mNameError\u001b[0m: name 'qq' is not defined"
     ]
    }
   ],
   "source": [
    "for i in range(21):\n",
    "    print(i,end='')\n",
    "    if i == 12:\n",
    "        ___"
   ]
  },
  {
   "cell_type": "markdown",
   "metadata": {},
   "source": [
    "***\n",
    "<h1 align=\"center\">WELL DONE</h1>\n",
    " \n",
    "***"
   ]
  }
 ],
 "metadata": {
  "interpreter": {
   "hash": "cd08f94adcf3cbae37fe85286256f4c2a10455ca9094fd053e9f3d3f09647223"
  },
  "kernelspec": {
   "display_name": "Python 3.9.7 64-bit",
   "language": "python",
   "name": "python3"
  },
  "language_info": {
   "codemirror_mode": {
    "name": "ipython",
    "version": 3
   },
   "file_extension": ".py",
   "mimetype": "text/x-python",
   "name": "python",
   "nbconvert_exporter": "python",
   "pygments_lexer": "ipython3",
   "version": "3.9.7"
  },
  "orig_nbformat": 4
 },
 "nbformat": 4,
 "nbformat_minor": 2
}
